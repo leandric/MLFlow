{
  "nbformat": 4,
  "nbformat_minor": 0,
  "metadata": {
    "colab": {
      "provenance": []
    },
    "kernelspec": {
      "name": "python3",
      "display_name": "Python 3"
    },
    "language_info": {
      "name": "python"
    }
  },
  "cells": [
    {
      "cell_type": "code",
      "execution_count": 19,
      "metadata": {
        "id": "2BWbQxwEyowE"
      },
      "outputs": [],
      "source": [
        "import pandas as pd\n",
        "from sklearn.model_selection import train_test_split\n",
        "from sklearn.naive_bayes import GaussianNB\n",
        "from sklearn.metrics import *\n",
        "from matplotlib import pyplot as plt\n",
        "\n",
        "import mlflow\n",
        "import mlflow.sklearn"
      ]
    },
    {
      "cell_type": "code",
      "source": [
        "credito = pd.read_csv('Credit.csv')"
      ],
      "metadata": {
        "id": "Ly1xU5kIyy76"
      },
      "execution_count": 20,
      "outputs": []
    },
    {
      "cell_type": "code",
      "source": [
        "credito.shape"
      ],
      "metadata": {
        "colab": {
          "base_uri": "https://localhost:8080/"
        },
        "id": "8eOTJgggzpoS",
        "outputId": "02992567-c11c-4c65-ceed-0089b917dec5"
      },
      "execution_count": 21,
      "outputs": [
        {
          "output_type": "execute_result",
          "data": {
            "text/plain": [
              "(1000, 21)"
            ]
          },
          "metadata": {},
          "execution_count": 21
        }
      ]
    },
    {
      "cell_type": "markdown",
      "source": [
        "Transformando colunas categóricas em numéricas"
      ],
      "metadata": {
        "id": "voDwSCJ50E3p"
      }
    },
    {
      "cell_type": "code",
      "source": [
        "for col in credito.columns:\n",
        "    if credito[col].dtype == 'object':\n",
        "        credito[col] = pd.Categorical(credito[col]).codes"
      ],
      "metadata": {
        "id": "_jTECe7hzqfQ"
      },
      "execution_count": 22,
      "outputs": []
    },
    {
      "cell_type": "code",
      "source": [
        "previsores = credito.iloc[:,0:20].values\n",
        "classe = credito.iloc[:,20].values"
      ],
      "metadata": {
        "id": "jqFQvwSN0l_s"
      },
      "execution_count": 23,
      "outputs": []
    },
    {
      "cell_type": "code",
      "source": [
        "X_train, X_test, y_train, y_test = train_test_split(previsores, classe, test_size=0.3, random_state= 123)"
      ],
      "metadata": {
        "id": "Q4bCKaGp0wNp"
      },
      "execution_count": 24,
      "outputs": []
    },
    {
      "cell_type": "code",
      "source": [
        "mlflow.set_experiment('naive_bayes_exp')\n",
        "with mlflow.start_run():\n",
        "  naive_bayes = GaussianNB()\n",
        "  naive_bayes.fit(X_train, y_train)\n",
        "  previsoes = naive_bayes.predict(X_test)\n",
        "\n",
        "  #métrica\n",
        "  acuracia = accuracy_score(y_test, previsoes)\n",
        "  recall = recall_score(y_test, previsoes)\n",
        "  precisao = precision_score(y_test, previsoes)\n",
        "  f1 = f1_score(y_test, previsoes)\n",
        "  auc = roc_auc_score(y_test, previsoes)\n",
        "  log = log_loss(y_test, previsoes)\n",
        "\n",
        "  #registrando a métrica\n",
        "  mlflow.log_metric('acuracia', acuracia)\n",
        "  mlflow.log_metrics({'recall': recall, 'precisao': precisao, 'f1': f1, 'auc': auc, 'log': log})\n",
        "\n",
        "  # Gráficos\n",
        "  confusion = ConfusionMatrixDisplay.from_estimator(naive_bayes, X_test, y_test)\n",
        "  plt.savefig('confusion.png')\n",
        "  roc = RocCurveDisplay.from_estimator(naive_bayes, X_test, y_test)\n",
        "  plt.savefig('roc.png')\n",
        "  plt.close()\n",
        "\n",
        "  #registrando os gráficos\n",
        "  mlflow.log_artifact('confusion.png')\n",
        "  mlflow.log_artifact('roc.png')\n",
        "\n",
        "  #registrando informaçoões do modelo\n",
        "  mlflow.set_tag('modelo', 'naive_bayes')\n",
        "  mlflow.set_tag('dataset', 'credit')\n",
        "\n",
        "  #registrando o modelo\n",
        "  mlflow.sklearn.log_model(naive_bayes, 'naive_bayes')\n",
        "  print(mlflow.active_run().info.run_id)\n",
        "mlflow.end_run()"
      ],
      "metadata": {
        "colab": {
          "base_uri": "https://localhost:8080/",
          "height": 505
        },
        "id": "68fe731Y1bfm",
        "outputId": "71279840-30fc-41cd-998f-c4c3fac351e7"
      },
      "execution_count": 25,
      "outputs": [
        {
          "output_type": "stream",
          "name": "stderr",
          "text": [
            "\u001b[31m2025/01/17 11:40:57 WARNING mlflow.models.model: Model logged without a signature and input example. Please set `input_example` parameter when logging the model to auto infer the model signature.\u001b[0m\n"
          ]
        },
        {
          "output_type": "stream",
          "name": "stdout",
          "text": [
            "555ef9ee2fcf4888b0adc1a8c8d739ba\n"
          ]
        },
        {
          "output_type": "display_data",
          "data": {
            "text/plain": [
              "<Figure size 640x480 with 2 Axes>"
            ],
            "image/png": "[encoded data removed]"
          },
          "metadata": {}
        }
      ]
    },
    {
      "cell_type": "markdown",
      "source": [
        "Criando um experimento"
      ],
      "metadata": {
        "id": "SRufIhYyLl6R"
      }
    },
    {
      "cell_type": "code",
      "source": [],
      "metadata": {
        "id": "aFZyhDA41xXQ"
      },
      "execution_count": 7,
      "outputs": []
    },
    {
      "cell_type": "code",
      "source": [],
      "metadata": {
        "id": "so_zRWKF2NP7"
      },
      "execution_count": 7,
      "outputs": []
    }
  ]
}